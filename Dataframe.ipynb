{
  "nbformat": 4,
  "nbformat_minor": 0,
  "metadata": {
    "colab": {
      "name": "Dataframe.ipynb",
      "provenance": [],
      "collapsed_sections": [],
      "authorship_tag": "ABX9TyPowVg1oeEGLq64moMyVBk7"
    },
    "kernelspec": {
      "name": "python3",
      "display_name": "Python 3"
    }
  },
  "cells": [
    {
      "cell_type": "code",
      "metadata": {
        "id": "X6bYXGba7A0i"
      },
      "source": [
        "import pandas as pd"
      ],
      "execution_count": null,
      "outputs": []
    },
    {
      "cell_type": "code",
      "metadata": {
        "colab": {
          "base_uri": "https://localhost:8080/"
        },
        "id": "0rndRTCv7EF7",
        "outputId": "3a34b4fb-cfc0-40af-fbd8-9d3e7a037eae"
      },
      "source": [
        "data = {\"Name\" : ['Sam','Jhon','Harry','Tom'],\"Age\" : [19,18,21,20] ,\"Marks\" : [46,50,60,63]}\r\n",
        "df = pd.DataFrame(data)\r\n",
        "print(df)"
      ],
      "execution_count": null,
      "outputs": [
        {
          "output_type": "stream",
          "text": [
            "    Name  Age  Marks\n",
            "0    Sam   19     46\n",
            "1   Jhon   18     50\n",
            "2  Harry   21     60\n",
            "3    Tom   20     63\n"
          ],
          "name": "stdout"
        }
      ]
    },
    {
      "cell_type": "code",
      "metadata": {
        "colab": {
          "base_uri": "https://localhost:8080/"
        },
        "id": "DW9BPfzg7PXR",
        "outputId": "11e4b818-9440-4fb4-fd6e-2549512555ce"
      },
      "source": [
        "print(df.loc[0])"
      ],
      "execution_count": null,
      "outputs": [
        {
          "output_type": "stream",
          "text": [
            "Name     Sam\n",
            "Age       19\n",
            "Marks     46\n",
            "Name: 0, dtype: object\n"
          ],
          "name": "stdout"
        }
      ]
    },
    {
      "cell_type": "code",
      "metadata": {
        "colab": {
          "base_uri": "https://localhost:8080/"
        },
        "id": "dwy-U9Jj7VgG",
        "outputId": "164e2ef5-10ed-4851-8a6f-8eec353dc0ec"
      },
      "source": [
        "print(df.loc[[0, 1]])"
      ],
      "execution_count": null,
      "outputs": [
        {
          "output_type": "stream",
          "text": [
            "   Name  Age  Marks\n",
            "0   Sam   19     46\n",
            "1  Jhon   18     50\n"
          ],
          "name": "stdout"
        }
      ]
    },
    {
      "cell_type": "code",
      "metadata": {
        "colab": {
          "base_uri": "https://localhost:8080/"
        },
        "id": "YX9t72jW7YpD",
        "outputId": "b235cf2b-86c6-4523-f807-472f79140dd1"
      },
      "source": [
        "df = pd.DataFrame(data,index = [1,2,3,4])\r\n",
        "print(df)"
      ],
      "execution_count": null,
      "outputs": [
        {
          "output_type": "stream",
          "text": [
            "    Name  Age  Marks\n",
            "1    Sam   19     46\n",
            "2   Jhon   18     50\n",
            "3  Harry   21     60\n",
            "4    Tom   20     63\n"
          ],
          "name": "stdout"
        }
      ]
    },
    {
      "cell_type": "code",
      "metadata": {
        "colab": {
          "base_uri": "https://localhost:8080/"
        },
        "id": "dO5OBIIp7cjW",
        "outputId": "304e0104-83a7-40cb-eff5-77e34f45fe97"
      },
      "source": [
        "print(df.loc[2])"
      ],
      "execution_count": null,
      "outputs": [
        {
          "output_type": "stream",
          "text": [
            "Name     Jhon\n",
            "Age        18\n",
            "Marks      50\n",
            "Name: 2, dtype: object\n"
          ],
          "name": "stdout"
        }
      ]
    },
    {
      "cell_type": "code",
      "metadata": {
        "id": "ePLZMqkx7h6Y",
        "colab": {
          "base_uri": "https://localhost:8080/"
        },
        "outputId": "c15abb5c-ade4-4306-f26a-b9002e85a89f"
      },
      "source": [
        "print(df[['Name','Marks']])"
      ],
      "execution_count": null,
      "outputs": [
        {
          "output_type": "stream",
          "text": [
            "    Name  Marks\n",
            "1    Sam     46\n",
            "2   Jhon     50\n",
            "3  Harry     60\n",
            "4    Tom     63\n"
          ],
          "name": "stdout"
        }
      ]
    },
    {
      "cell_type": "code",
      "metadata": {
        "id": "_La-5CEP7lqk"
      },
      "source": [
        ""
      ],
      "execution_count": null,
      "outputs": []
    }
  ]
}