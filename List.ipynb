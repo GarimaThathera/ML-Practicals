{
  "nbformat": 4,
  "nbformat_minor": 0,
  "metadata": {
    "colab": {
      "name": "List.ipynb",
      "provenance": [],
      "collapsed_sections": [],
      "authorship_tag": "ABX9TyPKsBe1zyUNSvURt/uh6unS"
    },
    "kernelspec": {
      "name": "python3",
      "display_name": "Python 3"
    }
  },
  "cells": [
    {
      "cell_type": "code",
      "metadata": {
        "id": "SoO29SBXL8fP"
      },
      "source": [
        "a = [23,67,12,4,33]"
      ],
      "execution_count": null,
      "outputs": []
    },
    {
      "cell_type": "code",
      "metadata": {
        "colab": {
          "base_uri": "https://localhost:8080/"
        },
        "id": "bGZtuUo6RBzJ",
        "outputId": "1c449400-fcc9-4396-d11f-c1db4a974be5"
      },
      "source": [
        "a.insert(3,8)\r\n",
        "print(a)"
      ],
      "execution_count": null,
      "outputs": [
        {
          "output_type": "stream",
          "text": [
            "[23, 67, 12, 8, 4, 33]\n"
          ],
          "name": "stdout"
        }
      ]
    },
    {
      "cell_type": "code",
      "metadata": {
        "colab": {
          "base_uri": "https://localhost:8080/"
        },
        "id": "gI9bfb7fROep",
        "outputId": "4e33fc93-55b9-4512-a4c8-62881973cb3e"
      },
      "source": [
        "a.remove(4)\r\n",
        "print(a)"
      ],
      "execution_count": null,
      "outputs": [
        {
          "output_type": "stream",
          "text": [
            "[23, 67, 12, 8, 33]\n"
          ],
          "name": "stdout"
        }
      ]
    },
    {
      "cell_type": "code",
      "metadata": {
        "colab": {
          "base_uri": "https://localhost:8080/"
        },
        "id": "WA18qrRqRZL_",
        "outputId": "3e60c580-591e-4681-e462-d3234a99a8d2"
      },
      "source": [
        "a.append(1)\r\n",
        "print(a)"
      ],
      "execution_count": null,
      "outputs": [
        {
          "output_type": "stream",
          "text": [
            "[23, 67, 12, 8, 33, 1]\n"
          ],
          "name": "stdout"
        }
      ]
    },
    {
      "cell_type": "code",
      "metadata": {
        "colab": {
          "base_uri": "https://localhost:8080/"
        },
        "id": "3l3zFp--RkD7",
        "outputId": "1d0806f1-bea9-4330-f85d-baa700e02de1"
      },
      "source": [
        "a.reverse()\r\n",
        "print(a)"
      ],
      "execution_count": null,
      "outputs": [
        {
          "output_type": "stream",
          "text": [
            "[1, 33, 8, 12, 67, 23]\n"
          ],
          "name": "stdout"
        }
      ]
    },
    {
      "cell_type": "code",
      "metadata": {
        "colab": {
          "base_uri": "https://localhost:8080/"
        },
        "id": "oBXjxxppRvAP",
        "outputId": "8e759d0c-fc5a-465d-d0c5-d79bc0b48e99"
      },
      "source": [
        "print(max(a))"
      ],
      "execution_count": null,
      "outputs": [
        {
          "output_type": "stream",
          "text": [
            "67\n"
          ],
          "name": "stdout"
        }
      ]
    },
    {
      "cell_type": "code",
      "metadata": {
        "colab": {
          "base_uri": "https://localhost:8080/"
        },
        "id": "LH4B_grqR3-6",
        "outputId": "83d343b0-7986-4106-cc31-87aba38e19dd"
      },
      "source": [
        "print(len(a))"
      ],
      "execution_count": null,
      "outputs": [
        {
          "output_type": "stream",
          "text": [
            "6\n"
          ],
          "name": "stdout"
        }
      ]
    },
    {
      "cell_type": "code",
      "metadata": {
        "colab": {
          "base_uri": "https://localhost:8080/"
        },
        "id": "Q5voN-kMR77t",
        "outputId": "7023694d-e328-47d5-afb7-f4e275c75b45"
      },
      "source": [
        "print(a.count(8))"
      ],
      "execution_count": null,
      "outputs": [
        {
          "output_type": "stream",
          "text": [
            "1\n"
          ],
          "name": "stdout"
        }
      ]
    },
    {
      "cell_type": "code",
      "metadata": {
        "colab": {
          "base_uri": "https://localhost:8080/"
        },
        "id": "N-guo90YSBRw",
        "outputId": "6f607da0-5d40-4cf0-9878-1391a7f9ae11"
      },
      "source": [
        "print(a.pop())"
      ],
      "execution_count": null,
      "outputs": [
        {
          "output_type": "stream",
          "text": [
            "23\n"
          ],
          "name": "stdout"
        }
      ]
    },
    {
      "cell_type": "code",
      "metadata": {
        "colab": {
          "base_uri": "https://localhost:8080/"
        },
        "id": "Cc_Q-S7oSQRm",
        "outputId": "f70cf322-34bf-4bac-b62e-ceac003ba882"
      },
      "source": [
        "a[3] = 28\r\n",
        "print(a)"
      ],
      "execution_count": null,
      "outputs": [
        {
          "output_type": "stream",
          "text": [
            "[1, 33, 8, 28, 67]\n"
          ],
          "name": "stdout"
        }
      ]
    },
    {
      "cell_type": "code",
      "metadata": {
        "colab": {
          "base_uri": "https://localhost:8080/"
        },
        "id": "JpBCkZeDSfcg",
        "outputId": "485045f7-500f-4f68-bb17-5a18e27d7784"
      },
      "source": [
        "a.sort()\r\n",
        "print(a)"
      ],
      "execution_count": null,
      "outputs": [
        {
          "output_type": "stream",
          "text": [
            "[1, 8, 28, 33, 67]\n"
          ],
          "name": "stdout"
        }
      ]
    },
    {
      "cell_type": "code",
      "metadata": {
        "id": "F62nkNwzSr2t"
      },
      "source": [
        "b = [\"Car\",\"Bus\",\"Train\"]"
      ],
      "execution_count": null,
      "outputs": []
    },
    {
      "cell_type": "code",
      "metadata": {
        "colab": {
          "base_uri": "https://localhost:8080/"
        },
        "id": "GauD2MHDTN7l",
        "outputId": "25b3b5f1-131c-419a-d22f-2061d1d06ac7"
      },
      "source": [
        "print(max(b))\r\n",
        "print(b.count(\"Bus\"))\r\n",
        "print(len(b))"
      ],
      "execution_count": null,
      "outputs": [
        {
          "output_type": "stream",
          "text": [
            "Train\n",
            "1\n",
            "3\n"
          ],
          "name": "stdout"
        }
      ]
    },
    {
      "cell_type": "code",
      "metadata": {
        "colab": {
          "base_uri": "https://localhost:8080/"
        },
        "id": "wbUnaYXmTtsj",
        "outputId": "d507d220-dcf8-4f14-d3c5-4831eddcec89"
      },
      "source": [
        "a.extend(b)\r\n",
        "print(a)"
      ],
      "execution_count": null,
      "outputs": [
        {
          "output_type": "stream",
          "text": [
            "[1, 8, 28, 33, 67, 'Car', 'Bus', 'Train']\n"
          ],
          "name": "stdout"
        }
      ]
    },
    {
      "cell_type": "code",
      "metadata": {
        "id": "ar-xxdKVXwEi"
      },
      "source": [
        ""
      ],
      "execution_count": null,
      "outputs": []
    }
  ]
}