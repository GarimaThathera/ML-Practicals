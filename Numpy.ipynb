{
  "nbformat": 4,
  "nbformat_minor": 0,
  "metadata": {
    "colab": {
      "name": "Numpy.ipynb",
      "provenance": [],
      "collapsed_sections": [],
      "authorship_tag": "ABX9TyOuVhHIkYBm6UgcNmutybdQ"
    },
    "kernelspec": {
      "name": "python3",
      "display_name": "Python 3"
    }
  },
  "cells": [
    {
      "cell_type": "code",
      "metadata": {
        "id": "-rzgyRcvYhdr"
      },
      "source": [
        "import numpy as np"
      ],
      "execution_count": 1,
      "outputs": []
    },
    {
      "cell_type": "code",
      "metadata": {
        "colab": {
          "base_uri": "https://localhost:8080/"
        },
        "id": "SVfKVppsnZNF",
        "outputId": "b22b9a43-56bd-48f8-c350-7411a5500ef3"
      },
      "source": [
        "arr1 = np.array([1,2,3,4])\r\n",
        "print(arr1)"
      ],
      "execution_count": 2,
      "outputs": [
        {
          "output_type": "stream",
          "text": [
            "[1 2 3 4]\n"
          ],
          "name": "stdout"
        }
      ]
    },
    {
      "cell_type": "code",
      "metadata": {
        "colab": {
          "base_uri": "https://localhost:8080/"
        },
        "id": "WGpcBWgVnrK0",
        "outputId": "416736f4-10ef-4edf-e5a0-d7577bd03bab"
      },
      "source": [
        "print(np.__version__)"
      ],
      "execution_count": 3,
      "outputs": [
        {
          "output_type": "stream",
          "text": [
            "1.19.5\n"
          ],
          "name": "stdout"
        }
      ]
    },
    {
      "cell_type": "code",
      "metadata": {
        "colab": {
          "base_uri": "https://localhost:8080/"
        },
        "id": "RkRwfXLMn5_M",
        "outputId": "915b4d64-611a-4432-aef5-e7a2acd72605"
      },
      "source": [
        "print(type(arr1))"
      ],
      "execution_count": 4,
      "outputs": [
        {
          "output_type": "stream",
          "text": [
            "<class 'numpy.ndarray'>\n"
          ],
          "name": "stdout"
        }
      ]
    },
    {
      "cell_type": "code",
      "metadata": {
        "colab": {
          "base_uri": "https://localhost:8080/"
        },
        "id": "NSghpEUkouaQ",
        "outputId": "f08a1ef8-efe7-45eb-d55e-faa736c8f925"
      },
      "source": [
        "arr2 = np.array([[1, 2, 3, 4, 5], [6, 7, 8, 9, 10]])\r\n",
        "\r\n",
        "print(arr2)"
      ],
      "execution_count": 5,
      "outputs": [
        {
          "output_type": "stream",
          "text": [
            "[[ 1  2  3  4  5]\n",
            " [ 6  7  8  9 10]]\n"
          ],
          "name": "stdout"
        }
      ]
    },
    {
      "cell_type": "code",
      "metadata": {
        "colab": {
          "base_uri": "https://localhost:8080/"
        },
        "id": "t8mVwih7o7jo",
        "outputId": "25185d9e-046e-4c4f-a172-3c42944cc9fe"
      },
      "source": [
        "arr3 = np.array([[[1, 2, 3],[4, 5, 6]],[[7, 8, 9],[10, 11, 12]]])\r\n",
        "print(arr3)"
      ],
      "execution_count": 6,
      "outputs": [
        {
          "output_type": "stream",
          "text": [
            "[[[ 1  2  3]\n",
            "  [ 4  5  6]]\n",
            "\n",
            " [[ 7  8  9]\n",
            "  [10 11 12]]]\n"
          ],
          "name": "stdout"
        }
      ]
    },
    {
      "cell_type": "code",
      "metadata": {
        "colab": {
          "base_uri": "https://localhost:8080/"
        },
        "id": "_tb-5HjkpQI5",
        "outputId": "2e9a5033-47c9-451b-abb5-314a1c8f7e5d"
      },
      "source": [
        "print(arr1.ndim)\r\n",
        "print(arr2.ndim)\r\n",
        "print(arr3.ndim)"
      ],
      "execution_count": 7,
      "outputs": [
        {
          "output_type": "stream",
          "text": [
            "1\n",
            "2\n",
            "3\n"
          ],
          "name": "stdout"
        }
      ]
    },
    {
      "cell_type": "code",
      "metadata": {
        "colab": {
          "base_uri": "https://localhost:8080/"
        },
        "id": "a9VprnZmqT7_",
        "outputId": "30e581a7-dfc8-47a9-c12b-510be2de0448"
      },
      "source": [
        "print(arr1[3])\r\n",
        "print(arr1[2] + arr1[3])"
      ],
      "execution_count": 8,
      "outputs": [
        {
          "output_type": "stream",
          "text": [
            "4\n",
            "7\n"
          ],
          "name": "stdout"
        }
      ]
    },
    {
      "cell_type": "code",
      "metadata": {
        "colab": {
          "base_uri": "https://localhost:8080/"
        },
        "id": "jH67xf9Yq1gv",
        "outputId": "cfb54ff3-8e62-4683-82b3-cad70183ad1a"
      },
      "source": [
        "print(arr2[1, 2])"
      ],
      "execution_count": 9,
      "outputs": [
        {
          "output_type": "stream",
          "text": [
            "8\n"
          ],
          "name": "stdout"
        }
      ]
    },
    {
      "cell_type": "code",
      "metadata": {
        "colab": {
          "base_uri": "https://localhost:8080/"
        },
        "id": "aWaE8ncKra57",
        "outputId": "44d15335-6d20-40fe-aa95-a26e0b3b8832"
      },
      "source": [
        "print(arr3[1, 1, 0])"
      ],
      "execution_count": 10,
      "outputs": [
        {
          "output_type": "stream",
          "text": [
            "10\n"
          ],
          "name": "stdout"
        }
      ]
    },
    {
      "cell_type": "code",
      "metadata": {
        "colab": {
          "base_uri": "https://localhost:8080/"
        },
        "id": "Y_FdD18Cr7lM",
        "outputId": "69cc5aae-436d-488f-eca8-3ae056cc3dab"
      },
      "source": [
        "b = np.array([1, 2, 3, 4, 5, 6, 7, 8, 9])\r\n",
        "print(b[:5])\r\n",
        "print(b[5:])\r\n",
        "print(b[1:7])\r\n",
        "print(b[-4:-1])\r\n",
        "print(b[2:4:2])\r\n",
        "print(b[::3])"
      ],
      "execution_count": 11,
      "outputs": [
        {
          "output_type": "stream",
          "text": [
            "[1 2 3 4 5]\n",
            "[6 7 8 9]\n",
            "[2 3 4 5 6 7]\n",
            "[6 7 8]\n",
            "[3]\n",
            "[1 4 7]\n"
          ],
          "name": "stdout"
        }
      ]
    },
    {
      "cell_type": "code",
      "metadata": {
        "colab": {
          "base_uri": "https://localhost:8080/"
        },
        "id": "ZeQcO2aFsxu0",
        "outputId": "137ac7d8-aa47-4205-8f80-1cf59b26dfeb"
      },
      "source": [
        "print(arr2[0:2, 1:4])"
      ],
      "execution_count": 12,
      "outputs": [
        {
          "output_type": "stream",
          "text": [
            "[[2 3 4]\n",
            " [7 8 9]]\n"
          ],
          "name": "stdout"
        }
      ]
    },
    {
      "cell_type": "code",
      "metadata": {
        "colab": {
          "base_uri": "https://localhost:8080/"
        },
        "id": "JdAgJIMovaLW",
        "outputId": "0bf0eacb-00f2-4dea-df2c-b963d684e073"
      },
      "source": [
        "import numpy as np\r\n",
        "arr1 = np.array([1, 2, 3])\r\n",
        "arr2 = np.array([4, 5, 6])\r\n",
        "arr = np.concatenate((arr1, arr2))\r\n",
        "print(arr)"
      ],
      "execution_count": 13,
      "outputs": [
        {
          "output_type": "stream",
          "text": [
            "[1 2 3 4 5 6]\n"
          ],
          "name": "stdout"
        }
      ]
    },
    {
      "cell_type": "code",
      "metadata": {
        "colab": {
          "base_uri": "https://localhost:8080/"
        },
        "id": "XcMnc4CrvwgV",
        "outputId": "0c77b76f-4eb6-45d6-cece-fc3ba2dfdb27"
      },
      "source": [
        "arr = np.array([3, 4, 2, 0, 1, 5])\r\n",
        "print(np.sort(arr))"
      ],
      "execution_count": 14,
      "outputs": [
        {
          "output_type": "stream",
          "text": [
            "[0 1 2 3 4 5]\n"
          ],
          "name": "stdout"
        }
      ]
    },
    {
      "cell_type": "code",
      "metadata": {
        "colab": {
          "base_uri": "https://localhost:8080/"
        },
        "id": "gp-ehDaZxJ-V",
        "outputId": "69b23ba3-03e0-4afb-f408-1f6f5735f4d4"
      },
      "source": [
        "a = [1, 2, 3, 4]\r\n",
        "b = [4, 5, 6, 7]\r\n",
        "c = np.add(a, b)\r\n",
        "\r\n",
        "print(c)\r\n"
      ],
      "execution_count": 15,
      "outputs": [
        {
          "output_type": "stream",
          "text": [
            "[ 5  7  9 11]\n"
          ],
          "name": "stdout"
        }
      ]
    },
    {
      "cell_type": "code",
      "metadata": {
        "id": "CDq7c4gBx1dt"
      },
      "source": [
        "import pandas as pd\r\n"
      ],
      "execution_count": 16,
      "outputs": []
    },
    {
      "cell_type": "code",
      "metadata": {
        "colab": {
          "base_uri": "https://localhost:8080/"
        },
        "id": "jAo24OSNyGcw",
        "outputId": "6ea326d2-1246-4b89-9c7d-5c809cce6dd4"
      },
      "source": [
        "data = np.array([['','a','b'],\r\n",
        "               ['a',1,3],\r\n",
        "               ['b',4,8]])\r\n",
        "print(pd.DataFrame(data=data[1:,1:],index=data[1:,0],columns=data[0,1:]))"
      ],
      "execution_count": 17,
      "outputs": [
        {
          "output_type": "stream",
          "text": [
            "   a  b\n",
            "a  1  3\n",
            "b  4  8\n"
          ],
          "name": "stdout"
        }
      ]
    },
    {
      "cell_type": "code",
      "metadata": {
        "colab": {
          "base_uri": "https://localhost:8080/"
        },
        "id": "mhbI0r0S26Cx",
        "outputId": "e30285a5-2682-4686-bdb3-fea2ada39409"
      },
      "source": [
        "import numpy as np\r\n",
        "arr = np.array([6, 7, 8, 9])\r\n",
        "c = np.searchsorted(arr, 8)\r\n",
        "print(c)"
      ],
      "execution_count": 18,
      "outputs": [
        {
          "output_type": "stream",
          "text": [
            "2\n"
          ],
          "name": "stdout"
        }
      ]
    },
    {
      "cell_type": "code",
      "metadata": {
        "id": "1KAZkT9z4ZBX"
      },
      "source": [
        ""
      ],
      "execution_count": 18,
      "outputs": []
    }
  ]
}