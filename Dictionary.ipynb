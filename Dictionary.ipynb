{
  "nbformat": 4,
  "nbformat_minor": 0,
  "metadata": {
    "colab": {
      "name": "Dictionary.ipynb",
      "provenance": [],
      "collapsed_sections": [],
      "authorship_tag": "ABX9TyOMHv0y8+sdhBYJuEHbaiT9"
    },
    "kernelspec": {
      "name": "python3",
      "display_name": "Python 3"
    }
  },
  "cells": [
    {
      "cell_type": "code",
      "metadata": {
        "id": "yJJOdvH1Gndx",
        "colab": {
          "base_uri": "https://localhost:8080/"
        },
        "outputId": "f8dce042-0170-4248-cc8b-e12e19eea406"
      },
      "source": [
        "a = {\"Food\":\"Burger\",\"Fruit\":\"Mango\",\"Vegetable\":\"Potato\",}\r\n",
        "print(a)"
      ],
      "execution_count": null,
      "outputs": [
        {
          "output_type": "stream",
          "text": [
            "{'Food': 'Burger', 'Fruit': 'Mango', 'Vegetable': 'Potato'}\n"
          ],
          "name": "stdout"
        }
      ]
    },
    {
      "cell_type": "code",
      "metadata": {
        "colab": {
          "base_uri": "https://localhost:8080/"
        },
        "id": "2Fkzh193E83q",
        "outputId": "11db341b-3a19-4960-86ab-b2e854ee49e8"
      },
      "source": [
        "print(a[\"Fruit\"])"
      ],
      "execution_count": null,
      "outputs": [
        {
          "output_type": "stream",
          "text": [
            "Mango\n"
          ],
          "name": "stdout"
        }
      ]
    },
    {
      "cell_type": "code",
      "metadata": {
        "colab": {
          "base_uri": "https://localhost:8080/"
        },
        "id": "5-x-Y69wFPC6",
        "outputId": "e12f727a-089e-43f7-cb8f-7ff3b5d40937"
      },
      "source": [
        "print(len(a))"
      ],
      "execution_count": null,
      "outputs": [
        {
          "output_type": "stream",
          "text": [
            "3\n"
          ],
          "name": "stdout"
        }
      ]
    },
    {
      "cell_type": "code",
      "metadata": {
        "colab": {
          "base_uri": "https://localhost:8080/"
        },
        "id": "gwxbp1GkGSuO",
        "outputId": "5782a8c2-db5f-44ac-da82-2663812c6e52"
      },
      "source": [
        "print(type(a))"
      ],
      "execution_count": null,
      "outputs": [
        {
          "output_type": "stream",
          "text": [
            "<class 'dict'>\n"
          ],
          "name": "stdout"
        }
      ]
    },
    {
      "cell_type": "code",
      "metadata": {
        "colab": {
          "base_uri": "https://localhost:8080/"
        },
        "id": "x1Tp6kHgH660",
        "outputId": "0fb03943-8ce8-4ab9-9ffd-fdbe91b1ee82"
      },
      "source": [
        "print(a.keys())"
      ],
      "execution_count": null,
      "outputs": [
        {
          "output_type": "stream",
          "text": [
            "dict_keys(['Food', 'Fruit', 'Vegetable'])\n"
          ],
          "name": "stdout"
        }
      ]
    },
    {
      "cell_type": "code",
      "metadata": {
        "colab": {
          "base_uri": "https://localhost:8080/"
        },
        "id": "JTierhzmL81Q",
        "outputId": "80b6c6c7-2c10-497d-f5ed-d6629acbe09c"
      },
      "source": [
        "a[\"Pulses\"] = \"Black beans\"\r\n",
        "print(a)"
      ],
      "execution_count": null,
      "outputs": [
        {
          "output_type": "stream",
          "text": [
            "{'Food': 'Burger', 'Fruit': 'Mango', 'Vegetable': 'Potato', 'Pulses': 'Black beans'}\n"
          ],
          "name": "stdout"
        }
      ]
    },
    {
      "cell_type": "code",
      "metadata": {
        "colab": {
          "base_uri": "https://localhost:8080/"
        },
        "id": "4inJOmv9MuBG",
        "outputId": "d84425c8-8788-4970-c624-6b069d7778ae"
      },
      "source": [
        "a.update({\"Fruit\" : \"Apple\"})\r\n",
        "print(a)\r\n"
      ],
      "execution_count": null,
      "outputs": [
        {
          "output_type": "stream",
          "text": [
            "{'Food': 'Burger', 'Fruit': 'Apple', 'Vegetable': 'Potato', 'Pulses': 'Black beans'}\n"
          ],
          "name": "stdout"
        }
      ]
    },
    {
      "cell_type": "code",
      "metadata": {
        "colab": {
          "base_uri": "https://localhost:8080/"
        },
        "id": "g8jXNUJbNzUm",
        "outputId": "027e8889-fcd2-4f42-db24-72f22c06392e"
      },
      "source": [
        "print(a.copy())"
      ],
      "execution_count": null,
      "outputs": [
        {
          "output_type": "stream",
          "text": [
            "{'Food': 'Burger', 'Fruit': 'Apple', 'Vegetable': 'Potato', 'Pulses': 'Black beans'}\n"
          ],
          "name": "stdout"
        }
      ]
    },
    {
      "cell_type": "code",
      "metadata": {
        "colab": {
          "base_uri": "https://localhost:8080/"
        },
        "id": "eqZYw8ZDOULn",
        "outputId": "b7f65c79-e8e7-46ba-d495-49acbf927ba3"
      },
      "source": [
        "print(a.values())\r\n",
        "print(a.items())"
      ],
      "execution_count": null,
      "outputs": [
        {
          "output_type": "stream",
          "text": [
            "dict_values(['Burger', 'Apple', 'Potato', 'Black beans'])\n",
            "dict_items([('Food', 'Burger'), ('Fruit', 'Apple'), ('Vegetable', 'Potato'), ('Pulses', 'Black beans')])\n"
          ],
          "name": "stdout"
        }
      ]
    },
    {
      "cell_type": "code",
      "metadata": {
        "colab": {
          "base_uri": "https://localhost:8080/"
        },
        "id": "dFHEMf3rPUUy",
        "outputId": "130b7a5a-6998-49b4-a608-f6947a84a337"
      },
      "source": [
        "print(a.popitem())"
      ],
      "execution_count": null,
      "outputs": [
        {
          "output_type": "stream",
          "text": [
            "('Pulses', 'Black beans')\n"
          ],
          "name": "stdout"
        }
      ]
    },
    {
      "cell_type": "code",
      "metadata": {
        "id": "u3nzQSG8PeNj"
      },
      "source": [
        ""
      ],
      "execution_count": null,
      "outputs": []
    }
  ]
}